{
  "cells": [
    {
      "cell_type": "code",
      "source": [
        "## Import the pip dependencies\n",
        "import pandas as pd\n",
        "from datetime import datetime\n",
        "\n",
        "import sys\n",
        "!{sys.executable} -m pip install azure-ai-evaluation"
      ],
      "outputs": [
        {
          "output_type": "stream",
          "name": "stdout",
          "text": "Requirement already satisfied: azure-ai-evaluation in /anaconda/envs/azureml_py310_sdkv2/lib/python3.10/site-packages (1.1.0)\nRequirement already satisfied: promptflow-devkit>=1.15.0 in /anaconda/envs/azureml_py310_sdkv2/lib/python3.10/site-packages (from azure-ai-evaluation) (1.16.2)\nRequirement already satisfied: promptflow-core>=1.15.0 in /anaconda/envs/azureml_py310_sdkv2/lib/python3.10/site-packages (from azure-ai-evaluation) (1.16.2)\nRequirement already satisfied: pyjwt>=2.8.0 in /anaconda/envs/azureml_py310_sdkv2/lib/python3.10/site-packages (from azure-ai-evaluation) (2.8.0)\nRequirement already satisfied: azure-identity>=1.16.0 in /anaconda/envs/azureml_py310_sdkv2/lib/python3.10/site-packages (from azure-ai-evaluation) (1.16.0)\nRequirement already satisfied: azure-core>=1.30.2 in /anaconda/envs/azureml_py310_sdkv2/lib/python3.10/site-packages (from azure-ai-evaluation) (1.30.2)\nRequirement already satisfied: nltk>=3.9.1 in /anaconda/envs/azureml_py310_sdkv2/lib/python3.10/site-packages (from azure-ai-evaluation) (3.9.1)\nRequirement already satisfied: azure-storage-blob>=12.10.0 in /anaconda/envs/azureml_py310_sdkv2/lib/python3.10/site-packages (from azure-ai-evaluation) (12.19.0)\nRequirement already satisfied: requests>=2.21.0 in /anaconda/envs/azureml_py310_sdkv2/lib/python3.10/site-packages (from azure-core>=1.30.2->azure-ai-evaluation) (2.32.3)\nRequirement already satisfied: six>=1.11.0 in /anaconda/envs/azureml_py310_sdkv2/lib/python3.10/site-packages (from azure-core>=1.30.2->azure-ai-evaluation) (1.16.0)\nRequirement already satisfied: typing-extensions>=4.6.0 in /anaconda/envs/azureml_py310_sdkv2/lib/python3.10/site-packages (from azure-core>=1.30.2->azure-ai-evaluation) (4.12.2)\nRequirement already satisfied: cryptography>=2.5 in /anaconda/envs/azureml_py310_sdkv2/lib/python3.10/site-packages (from azure-identity>=1.16.0->azure-ai-evaluation) (42.0.8)\nRequirement already satisfied: msal>=1.24.0 in /anaconda/envs/azureml_py310_sdkv2/lib/python3.10/site-packages (from azure-identity>=1.16.0->azure-ai-evaluation) (1.28.0)\nRequirement already satisfied: msal-extensions>=0.3.0 in /anaconda/envs/azureml_py310_sdkv2/lib/python3.10/site-packages (from azure-identity>=1.16.0->azure-ai-evaluation) (1.1.0)\nRequirement already satisfied: isodate>=0.6.1 in /anaconda/envs/azureml_py310_sdkv2/lib/python3.10/site-packages (from azure-storage-blob>=12.10.0->azure-ai-evaluation) (0.6.1)\nRequirement already satisfied: click in /anaconda/envs/azureml_py310_sdkv2/lib/python3.10/site-packages (from nltk>=3.9.1->azure-ai-evaluation) (8.1.7)\nRequirement already satisfied: joblib in /anaconda/envs/azureml_py310_sdkv2/lib/python3.10/site-packages (from nltk>=3.9.1->azure-ai-evaluation) (1.4.2)\nRequirement already satisfied: regex>=2021.8.3 in /anaconda/envs/azureml_py310_sdkv2/lib/python3.10/site-packages (from nltk>=3.9.1->azure-ai-evaluation) (2024.7.24)\nRequirement already satisfied: tqdm in /anaconda/envs/azureml_py310_sdkv2/lib/python3.10/site-packages (from nltk>=3.9.1->azure-ai-evaluation) (4.66.4)\nRequirement already satisfied: docstring_parser in /anaconda/envs/azureml_py310_sdkv2/lib/python3.10/site-packages (from promptflow-core>=1.15.0->azure-ai-evaluation) (0.16)\nRequirement already satisfied: fastapi<1.0.0,>=0.109.0 in /anaconda/envs/azureml_py310_sdkv2/lib/python3.10/site-packages (from promptflow-core>=1.15.0->azure-ai-evaluation) (0.115.6)\nRequirement already satisfied: filetype>=1.2.0 in /anaconda/envs/azureml_py310_sdkv2/lib/python3.10/site-packages (from promptflow-core>=1.15.0->azure-ai-evaluation) (1.2.0)\nRequirement already satisfied: flask<4.0.0,>=2.2.3 in /anaconda/envs/azureml_py310_sdkv2/lib/python3.10/site-packages (from promptflow-core>=1.15.0->azure-ai-evaluation) (3.0.3)\nRequirement already satisfied: jsonschema<5.0.0,>=4.0.0 in /anaconda/envs/azureml_py310_sdkv2/lib/python3.10/site-packages (from promptflow-core>=1.15.0->azure-ai-evaluation) (4.22.0)\nRequirement already satisfied: promptflow-tracing==1.16.2 in /anaconda/envs/azureml_py310_sdkv2/lib/python3.10/site-packages (from promptflow-core>=1.15.0->azure-ai-evaluation) (1.16.2)\nRequirement already satisfied: psutil in /anaconda/envs/azureml_py310_sdkv2/lib/python3.10/site-packages (from promptflow-core>=1.15.0->azure-ai-evaluation) (5.9.8)\nRequirement already satisfied: python-dateutil<3.0.0,>=2.1.0 in /anaconda/envs/azureml_py310_sdkv2/lib/python3.10/site-packages (from promptflow-core>=1.15.0->azure-ai-evaluation) (2.9.0)\nRequirement already satisfied: ruamel.yaml<1.0.0,>=0.17.10 in /anaconda/envs/azureml_py310_sdkv2/lib/python3.10/site-packages (from promptflow-core>=1.15.0->azure-ai-evaluation) (0.18.7)\nRequirement already satisfied: openai in /anaconda/envs/azureml_py310_sdkv2/lib/python3.10/site-packages (from promptflow-tracing==1.16.2->promptflow-core>=1.15.0->azure-ai-evaluation) (1.35.7)\nRequirement already satisfied: opentelemetry-sdk<2.0.0,>=1.22.0 in /anaconda/envs/azureml_py310_sdkv2/lib/python3.10/site-packages (from promptflow-tracing==1.16.2->promptflow-core>=1.15.0->azure-ai-evaluation) (1.29.0)\nRequirement already satisfied: tiktoken>=0.4.0 in /anaconda/envs/azureml_py310_sdkv2/lib/python3.10/site-packages (from promptflow-tracing==1.16.2->promptflow-core>=1.15.0->azure-ai-evaluation) (0.8.0)\nRequirement already satisfied: argcomplete>=3.2.3 in /anaconda/envs/azureml_py310_sdkv2/lib/python3.10/site-packages (from promptflow-devkit>=1.15.0->azure-ai-evaluation) (3.3.0)\nRequirement already satisfied: azure-monitor-opentelemetry-exporter<2.0.0,>=1.0.0b21 in /anaconda/envs/azureml_py310_sdkv2/lib/python3.10/site-packages (from promptflow-devkit>=1.15.0->azure-ai-evaluation) (1.0.0b32)\nRequirement already satisfied: colorama<0.5.0,>=0.4.6 in /anaconda/envs/azureml_py310_sdkv2/lib/python3.10/site-packages (from promptflow-devkit>=1.15.0->azure-ai-evaluation) (0.4.6)\nRequirement already satisfied: filelock<4.0.0,>=3.4.0 in /anaconda/envs/azureml_py310_sdkv2/lib/python3.10/site-packages (from promptflow-devkit>=1.15.0->azure-ai-evaluation) (3.14.0)\nRequirement already satisfied: flask-cors<6.0.0,>=5.0.0 in /anaconda/envs/azureml_py310_sdkv2/lib/python3.10/site-packages (from promptflow-devkit>=1.15.0->azure-ai-evaluation) (5.0.0)\nRequirement already satisfied: flask-restx<2.0.0,>=1.2.0 in /anaconda/envs/azureml_py310_sdkv2/lib/python3.10/site-packages (from promptflow-devkit>=1.15.0->azure-ai-evaluation) (1.3.0)\nRequirement already satisfied: gitpython<4.0.0,>=3.1.24 in /anaconda/envs/azureml_py310_sdkv2/lib/python3.10/site-packages (from promptflow-devkit>=1.15.0->azure-ai-evaluation) (3.1.43)\nRequirement already satisfied: httpx>=0.25.1 in /anaconda/envs/azureml_py310_sdkv2/lib/python3.10/site-packages (from promptflow-devkit>=1.15.0->azure-ai-evaluation) (0.27.0)\nRequirement already satisfied: keyring<25.0.0,>=24.2.0 in /anaconda/envs/azureml_py310_sdkv2/lib/python3.10/site-packages (from promptflow-devkit>=1.15.0->azure-ai-evaluation) (24.3.1)\nRequirement already satisfied: marshmallow<4.0.0,>=3.5 in /anaconda/envs/azureml_py310_sdkv2/lib/python3.10/site-packages (from promptflow-devkit>=1.15.0->azure-ai-evaluation) (3.21.3)\nRequirement already satisfied: opentelemetry-exporter-otlp-proto-http<2.0.0,>=1.22.0 in /anaconda/envs/azureml_py310_sdkv2/lib/python3.10/site-packages (from promptflow-devkit>=1.15.0->azure-ai-evaluation) (1.29.0)\nRequirement already satisfied: pandas<3.0.0,>=1.5.3 in /anaconda/envs/azureml_py310_sdkv2/lib/python3.10/site-packages (from promptflow-devkit>=1.15.0->azure-ai-evaluation) (2.2.2)\nRequirement already satisfied: pillow<11.0.0,>=10.1.0 in /anaconda/envs/azureml_py310_sdkv2/lib/python3.10/site-packages (from promptflow-devkit>=1.15.0->azure-ai-evaluation) (10.3.0)\nRequirement already satisfied: pydash<8.0.0,>=6.0.0 in /anaconda/envs/azureml_py310_sdkv2/lib/python3.10/site-packages (from promptflow-devkit>=1.15.0->azure-ai-evaluation) (7.0.7)\nRequirement already satisfied: python-dotenv<2.0.0,>=1.0.0 in /anaconda/envs/azureml_py310_sdkv2/lib/python3.10/site-packages (from promptflow-devkit>=1.15.0->azure-ai-evaluation) (1.0.1)\nRequirement already satisfied: sqlalchemy<3.0.0,>=1.4.48 in /anaconda/envs/azureml_py310_sdkv2/lib/python3.10/site-packages (from promptflow-devkit>=1.15.0->azure-ai-evaluation) (2.0.30)\nRequirement already satisfied: strictyaml<2.0.0,>=1.5.0 in /anaconda/envs/azureml_py310_sdkv2/lib/python3.10/site-packages (from promptflow-devkit>=1.15.0->azure-ai-evaluation) (1.7.3)\nRequirement already satisfied: tabulate<1.0.0,>=0.9.0 in /anaconda/envs/azureml_py310_sdkv2/lib/python3.10/site-packages (from promptflow-devkit>=1.15.0->azure-ai-evaluation) (0.9.0)\nRequirement already satisfied: waitress<4.0.0,>=3.0.0 in /anaconda/envs/azureml_py310_sdkv2/lib/python3.10/site-packages (from promptflow-devkit>=1.15.0->azure-ai-evaluation) (3.0.2)\nRequirement already satisfied: fixedint==0.1.6 in /anaconda/envs/azureml_py310_sdkv2/lib/python3.10/site-packages (from azure-monitor-opentelemetry-exporter<2.0.0,>=1.0.0b21->promptflow-devkit>=1.15.0->azure-ai-evaluation) (0.1.6)\nRequirement already satisfied: msrest>=0.6.10 in /anaconda/envs/azureml_py310_sdkv2/lib/python3.10/site-packages (from azure-monitor-opentelemetry-exporter<2.0.0,>=1.0.0b21->promptflow-devkit>=1.15.0->azure-ai-evaluation) (0.7.1)\nRequirement already satisfied: opentelemetry-api~=1.26 in /anaconda/envs/azureml_py310_sdkv2/lib/python3.10/site-packages (from azure-monitor-opentelemetry-exporter<2.0.0,>=1.0.0b21->promptflow-devkit>=1.15.0->azure-ai-evaluation) (1.29.0)\nRequirement already satisfied: cffi>=1.12 in /anaconda/envs/azureml_py310_sdkv2/lib/python3.10/site-packages (from cryptography>=2.5->azure-identity>=1.16.0->azure-ai-evaluation) (1.16.0)\nRequirement already satisfied: starlette<0.42.0,>=0.40.0 in /anaconda/envs/azureml_py310_sdkv2/lib/python3.10/site-packages (from fastapi<1.0.0,>=0.109.0->promptflow-core>=1.15.0->azure-ai-evaluation) (0.41.3)\nRequirement already satisfied: pydantic!=1.8,!=1.8.1,!=2.0.0,!=2.0.1,!=2.1.0,<3.0.0,>=1.7.4 in /anaconda/envs/azureml_py310_sdkv2/lib/python3.10/site-packages (from fastapi<1.0.0,>=0.109.0->promptflow-core>=1.15.0->azure-ai-evaluation) (2.8.2)\nRequirement already satisfied: Werkzeug>=3.0.0 in /anaconda/envs/azureml_py310_sdkv2/lib/python3.10/site-packages (from flask<4.0.0,>=2.2.3->promptflow-core>=1.15.0->azure-ai-evaluation) (3.0.3)\nRequirement already satisfied: Jinja2>=3.1.2 in /anaconda/envs/azureml_py310_sdkv2/lib/python3.10/site-packages (from flask<4.0.0,>=2.2.3->promptflow-core>=1.15.0->azure-ai-evaluation) (3.1.4)\nRequirement already satisfied: itsdangerous>=2.1.2 in /anaconda/envs/azureml_py310_sdkv2/lib/python3.10/site-packages (from flask<4.0.0,>=2.2.3->promptflow-core>=1.15.0->azure-ai-evaluation) (2.2.0)\nRequirement already satisfied: blinker>=1.6.2 in /anaconda/envs/azureml_py310_sdkv2/lib/python3.10/site-packages (from flask<4.0.0,>=2.2.3->promptflow-core>=1.15.0->azure-ai-evaluation) (1.8.2)\nRequirement already satisfied: aniso8601>=0.82 in /anaconda/envs/azureml_py310_sdkv2/lib/python3.10/site-packages (from flask-restx<2.0.0,>=1.2.0->promptflow-devkit>=1.15.0->azure-ai-evaluation) (9.0.1)\nRequirement already satisfied: pytz in /anaconda/envs/azureml_py310_sdkv2/lib/python3.10/site-packages (from flask-restx<2.0.0,>=1.2.0->promptflow-devkit>=1.15.0->azure-ai-evaluation) (2024.1)\nRequirement already satisfied: importlib-resources in /anaconda/envs/azureml_py310_sdkv2/lib/python3.10/site-packages (from flask-restx<2.0.0,>=1.2.0->promptflow-devkit>=1.15.0->azure-ai-evaluation) (6.4.5)\nRequirement already satisfied: gitdb<5,>=4.0.1 in /anaconda/envs/azureml_py310_sdkv2/lib/python3.10/site-packages (from gitpython<4.0.0,>=3.1.24->promptflow-devkit>=1.15.0->azure-ai-evaluation) (4.0.11)\nRequirement already satisfied: anyio in /anaconda/envs/azureml_py310_sdkv2/lib/python3.10/site-packages (from httpx>=0.25.1->promptflow-devkit>=1.15.0->azure-ai-evaluation) (4.4.0)\nRequirement already satisfied: certifi in /anaconda/envs/azureml_py310_sdkv2/lib/python3.10/site-packages (from httpx>=0.25.1->promptflow-devkit>=1.15.0->azure-ai-evaluation) (2024.6.2)\nRequirement already satisfied: httpcore==1.* in /anaconda/envs/azureml_py310_sdkv2/lib/python3.10/site-packages (from httpx>=0.25.1->promptflow-devkit>=1.15.0->azure-ai-evaluation) (1.0.5)\nRequirement already satisfied: idna in /anaconda/envs/azureml_py310_sdkv2/lib/python3.10/site-packages (from httpx>=0.25.1->promptflow-devkit>=1.15.0->azure-ai-evaluation) (3.7)\nRequirement already satisfied: sniffio in /anaconda/envs/azureml_py310_sdkv2/lib/python3.10/site-packages (from httpx>=0.25.1->promptflow-devkit>=1.15.0->azure-ai-evaluation) (1.3.1)\nRequirement already satisfied: h11<0.15,>=0.13 in /anaconda/envs/azureml_py310_sdkv2/lib/python3.10/site-packages (from httpcore==1.*->httpx>=0.25.1->promptflow-devkit>=1.15.0->azure-ai-evaluation) (0.14.0)\nRequirement already satisfied: attrs>=22.2.0 in /anaconda/envs/azureml_py310_sdkv2/lib/python3.10/site-packages (from jsonschema<5.0.0,>=4.0.0->promptflow-core>=1.15.0->azure-ai-evaluation) (23.2.0)\nRequirement already satisfied: jsonschema-specifications>=2023.03.6 in /anaconda/envs/azureml_py310_sdkv2/lib/python3.10/site-packages (from jsonschema<5.0.0,>=4.0.0->promptflow-core>=1.15.0->azure-ai-evaluation) (2023.12.1)\nRequirement already satisfied: referencing>=0.28.4 in /anaconda/envs/azureml_py310_sdkv2/lib/python3.10/site-packages (from jsonschema<5.0.0,>=4.0.0->promptflow-core>=1.15.0->azure-ai-evaluation) (0.35.1)\nRequirement already satisfied: rpds-py>=0.7.1 in /anaconda/envs/azureml_py310_sdkv2/lib/python3.10/site-packages (from jsonschema<5.0.0,>=4.0.0->promptflow-core>=1.15.0->azure-ai-evaluation) (0.18.1)\nRequirement already satisfied: jaraco.classes in /anaconda/envs/azureml_py310_sdkv2/lib/python3.10/site-packages (from keyring<25.0.0,>=24.2.0->promptflow-devkit>=1.15.0->azure-ai-evaluation) (3.4.0)\nRequirement already satisfied: importlib-metadata>=4.11.4 in /anaconda/envs/azureml_py310_sdkv2/lib/python3.10/site-packages (from keyring<25.0.0,>=24.2.0->promptflow-devkit>=1.15.0->azure-ai-evaluation) (7.1.0)\nRequirement already satisfied: SecretStorage>=3.2 in /anaconda/envs/azureml_py310_sdkv2/lib/python3.10/site-packages (from keyring<25.0.0,>=24.2.0->promptflow-devkit>=1.15.0->azure-ai-evaluation) (3.3.3)\nRequirement already satisfied: jeepney>=0.4.2 in /anaconda/envs/azureml_py310_sdkv2/lib/python3.10/site-packages (from keyring<25.0.0,>=24.2.0->promptflow-devkit>=1.15.0->azure-ai-evaluation) (0.8.0)\nRequirement already satisfied: packaging>=17.0 in /anaconda/envs/azureml_py310_sdkv2/lib/python3.10/site-packages (from marshmallow<4.0.0,>=3.5->promptflow-devkit>=1.15.0->azure-ai-evaluation) (24.0)\nRequirement already satisfied: portalocker<3,>=1.0 in /anaconda/envs/azureml_py310_sdkv2/lib/python3.10/site-packages (from msal-extensions>=0.3.0->azure-identity>=1.16.0->azure-ai-evaluation) (2.8.2)\nRequirement already satisfied: deprecated>=1.2.6 in /anaconda/envs/azureml_py310_sdkv2/lib/python3.10/site-packages (from opentelemetry-exporter-otlp-proto-http<2.0.0,>=1.22.0->promptflow-devkit>=1.15.0->azure-ai-evaluation) (1.2.14)\nRequirement already satisfied: googleapis-common-protos~=1.52 in /anaconda/envs/azureml_py310_sdkv2/lib/python3.10/site-packages (from opentelemetry-exporter-otlp-proto-http<2.0.0,>=1.22.0->promptflow-devkit>=1.15.0->azure-ai-evaluation) (1.63.1)\nRequirement already satisfied: opentelemetry-exporter-otlp-proto-common==1.29.0 in /anaconda/envs/azureml_py310_sdkv2/lib/python3.10/site-packages (from opentelemetry-exporter-otlp-proto-http<2.0.0,>=1.22.0->promptflow-devkit>=1.15.0->azure-ai-evaluation) (1.29.0)\nRequirement already satisfied: opentelemetry-proto==1.29.0 in /anaconda/envs/azureml_py310_sdkv2/lib/python3.10/site-packages (from opentelemetry-exporter-otlp-proto-http<2.0.0,>=1.22.0->promptflow-devkit>=1.15.0->azure-ai-evaluation) (1.29.0)\nRequirement already satisfied: protobuf<6.0,>=5.0 in /anaconda/envs/azureml_py310_sdkv2/lib/python3.10/site-packages (from opentelemetry-proto==1.29.0->opentelemetry-exporter-otlp-proto-http<2.0.0,>=1.22.0->promptflow-devkit>=1.15.0->azure-ai-evaluation) (5.29.2)\nRequirement already satisfied: numpy>=1.22.4 in /anaconda/envs/azureml_py310_sdkv2/lib/python3.10/site-packages (from pandas<3.0.0,>=1.5.3->promptflow-devkit>=1.15.0->azure-ai-evaluation) (1.23.5)\nRequirement already satisfied: tzdata>=2022.7 in /anaconda/envs/azureml_py310_sdkv2/lib/python3.10/site-packages (from pandas<3.0.0,>=1.5.3->promptflow-devkit>=1.15.0->azure-ai-evaluation) (2024.1)\nRequirement already satisfied: charset-normalizer<4,>=2 in /anaconda/envs/azureml_py310_sdkv2/lib/python3.10/site-packages (from requests>=2.21.0->azure-core>=1.30.2->azure-ai-evaluation) (3.3.2)\nRequirement already satisfied: urllib3<3,>=1.21.1 in /anaconda/envs/azureml_py310_sdkv2/lib/python3.10/site-packages (from requests>=2.21.0->azure-core>=1.30.2->azure-ai-evaluation) (2.2.1)\nRequirement already satisfied: ruamel.yaml.clib>=0.2.7 in /anaconda/envs/azureml_py310_sdkv2/lib/python3.10/site-packages (from ruamel.yaml<1.0.0,>=0.17.10->promptflow-core>=1.15.0->azure-ai-evaluation) (0.2.12)\nRequirement already satisfied: greenlet!=0.4.17 in /anaconda/envs/azureml_py310_sdkv2/lib/python3.10/site-packages (from sqlalchemy<3.0.0,>=1.4.48->promptflow-devkit>=1.15.0->azure-ai-evaluation) (3.0.3)\nRequirement already satisfied: pycparser in /anaconda/envs/azureml_py310_sdkv2/lib/python3.10/site-packages (from cffi>=1.12->cryptography>=2.5->azure-identity>=1.16.0->azure-ai-evaluation) (2.22)\nRequirement already satisfied: wrapt<2,>=1.10 in /anaconda/envs/azureml_py310_sdkv2/lib/python3.10/site-packages (from deprecated>=1.2.6->opentelemetry-exporter-otlp-proto-http<2.0.0,>=1.22.0->promptflow-devkit>=1.15.0->azure-ai-evaluation) (1.16.0)\nRequirement already satisfied: smmap<6,>=3.0.1 in /anaconda/envs/azureml_py310_sdkv2/lib/python3.10/site-packages (from gitdb<5,>=4.0.1->gitpython<4.0.0,>=3.1.24->promptflow-devkit>=1.15.0->azure-ai-evaluation) (5.0.1)\nRequirement already satisfied: zipp>=0.5 in /anaconda/envs/azureml_py310_sdkv2/lib/python3.10/site-packages (from importlib-metadata>=4.11.4->keyring<25.0.0,>=24.2.0->promptflow-devkit>=1.15.0->azure-ai-evaluation) (3.19.2)\nRequirement already satisfied: MarkupSafe>=2.0 in /anaconda/envs/azureml_py310_sdkv2/lib/python3.10/site-packages (from Jinja2>=3.1.2->flask<4.0.0,>=2.2.3->promptflow-core>=1.15.0->azure-ai-evaluation) (2.1.5)\nRequirement already satisfied: requests-oauthlib>=0.5.0 in /anaconda/envs/azureml_py310_sdkv2/lib/python3.10/site-packages (from msrest>=0.6.10->azure-monitor-opentelemetry-exporter<2.0.0,>=1.0.0b21->promptflow-devkit>=1.15.0->azure-ai-evaluation) (2.0.0)\nRequirement already satisfied: opentelemetry-semantic-conventions==0.50b0 in /anaconda/envs/azureml_py310_sdkv2/lib/python3.10/site-packages (from opentelemetry-sdk<2.0.0,>=1.22.0->promptflow-tracing==1.16.2->promptflow-core>=1.15.0->azure-ai-evaluation) (0.50b0)\nRequirement already satisfied: annotated-types>=0.4.0 in /anaconda/envs/azureml_py310_sdkv2/lib/python3.10/site-packages (from pydantic!=1.8,!=1.8.1,!=2.0.0,!=2.0.1,!=2.1.0,<3.0.0,>=1.7.4->fastapi<1.0.0,>=0.109.0->promptflow-core>=1.15.0->azure-ai-evaluation) (0.7.0)\nRequirement already satisfied: pydantic-core==2.20.1 in /anaconda/envs/azureml_py310_sdkv2/lib/python3.10/site-packages (from pydantic!=1.8,!=1.8.1,!=2.0.0,!=2.0.1,!=2.1.0,<3.0.0,>=1.7.4->fastapi<1.0.0,>=0.109.0->promptflow-core>=1.15.0->azure-ai-evaluation) (2.20.1)\nRequirement already satisfied: exceptiongroup>=1.0.2 in /anaconda/envs/azureml_py310_sdkv2/lib/python3.10/site-packages (from anyio->httpx>=0.25.1->promptflow-devkit>=1.15.0->azure-ai-evaluation) (1.2.0)\nRequirement already satisfied: more-itertools in /anaconda/envs/azureml_py310_sdkv2/lib/python3.10/site-packages (from jaraco.classes->keyring<25.0.0,>=24.2.0->promptflow-devkit>=1.15.0->azure-ai-evaluation) (10.5.0)\nRequirement already satisfied: distro<2,>=1.7.0 in /anaconda/envs/azureml_py310_sdkv2/lib/python3.10/site-packages (from openai->promptflow-tracing==1.16.2->promptflow-core>=1.15.0->azure-ai-evaluation) (1.9.0)\nRequirement already satisfied: oauthlib>=3.0.0 in /anaconda/envs/azureml_py310_sdkv2/lib/python3.10/site-packages (from requests-oauthlib>=0.5.0->msrest>=0.6.10->azure-monitor-opentelemetry-exporter<2.0.0,>=1.0.0b21->promptflow-devkit>=1.15.0->azure-ai-evaluation) (3.2.2)\n"
        }
      ],
      "execution_count": 4,
      "metadata": {
        "jupyter": {
          "source_hidden": false,
          "outputs_hidden": false
        },
        "nteract": {
          "transient": {
            "deleting": false
          }
        },
        "gather": {
          "logged": 1735590628053
        }
      }
    },
    {
      "cell_type": "code",
      "source": [
        "dataset = pd.read_csv(\"./slm_perf_output.csv\")\n",
        "\n",
        "sample = dataset.iloc[0]\n",
        "print(sample)"
      ],
      "outputs": [
        {
          "output_type": "stream",
          "name": "stdout",
          "text": "Prompt      [{'role': 'system', 'content': 'You are a help...\nActual      {'tool_uses': [{'recipient_name': 'functions.s...\nExpected    {'tool_uses': [{'recipient_name': 'functions.s...\nMatch                                                      No\nName: 0, dtype: object\n"
        }
      ],
      "execution_count": 9,
      "metadata": {
        "jupyter": {
          "source_hidden": false,
          "outputs_hidden": false
        },
        "nteract": {
          "transient": {
            "deleting": false
          }
        },
        "gather": {
          "logged": 1735590697376
        }
      }
    },
    {
      "cell_type": "code",
      "source": [
        "import yaml\n",
        "from azure.ai.evaluation import BleuScoreEvaluator, GleuScoreEvaluator, MeteorScoreEvaluator, RougeScoreEvaluator, RougeType\n",
        "\n",
        "bleu = BleuScoreEvaluator()\n",
        "glue = GleuScoreEvaluator()\n",
        "meteor = MeteorScoreEvaluator(alpha = 0.9, beta = 3.0, gamma = 0.5)\n",
        "rouge = RougeScoreEvaluator(rouge_type=RougeType.ROUGE_L)\n"
      ],
      "outputs": [],
      "execution_count": 14,
      "metadata": {
        "jupyter": {
          "source_hidden": false,
          "outputs_hidden": false
        },
        "nteract": {
          "transient": {
            "deleting": false
          }
        },
        "gather": {
          "logged": 1735591091708
        }
      }
    },
    {
      "cell_type": "code",
      "source": [
        "with open('./llama-fc_config.yaml') as f:\n",
        "    d = yaml.load(f, Loader=yaml.FullLoader)\n",
        "    \n",
        "AZURE_SUBSCRIPTION_ID = d['config']['AZURE_SUBSCRIPTION_ID']\n",
        "AZURE_RESOURCE_GROUP = d['config']['AZURE_RESOURCE_GROUP']\n",
        "AZURE_WORKSPACE = d['config']['AZURE_WORKSPACE']\n",
        "AZURE_DATA_NAME = d['config']['AZURE_SFT_DATA_NAME']    \n",
        "DATA_DIR = d['config']['SFT_DATA_DIR']\n",
        "CLOUD_DIR = d['config']['CLOUD_DIR']\n",
        "HF_MODEL_NAME_OR_PATH = d['config']['HF_MODEL_NAME_OR_PATH']\n"
      ],
      "outputs": [],
      "execution_count": 15,
      "metadata": {
        "jupyter": {
          "source_hidden": false,
          "outputs_hidden": false
        },
        "nteract": {
          "transient": {
            "deleting": false
          }
        },
        "gather": {
          "logged": 1735591095133
        }
      }
    },
    {
      "cell_type": "code",
      "source": [
        "df = pd.read_csv(\"./slm_perf_output.csv\")\n",
        "df.rename(columns = {\"Actual\" : \"ground_truth\", \"Expected\" : \"response\"}, inplace = True)\n",
        "df.to_json(\"./eval_baseline_data.jsonl\", orient = \"records\", lines = True)"
      ],
      "outputs": [],
      "execution_count": 20,
      "metadata": {
        "jupyter": {
          "source_hidden": false,
          "outputs_hidden": false
        },
        "nteract": {
          "transient": {
            "deleting": false
          }
        },
        "gather": {
          "logged": 1735591328416
        }
      }
    },
    {
      "cell_type": "code",
      "source": [
        "! az ad user show --id priyakedia@ --query objectId  "
      ],
      "outputs": [],
      "execution_count": 24,
      "metadata": {
        "jupyter": {
          "source_hidden": false,
          "outputs_hidden": false
        },
        "nteract": {
          "transient": {
            "deleting": false
          }
        }
      }
    },
    {
      "cell_type": "code",
      "source": [
        "# <mySubscriptionID>: Subscription ID of the Azure AI Studio hub's linked storage account (available in Azure AI hub resource view in Azure Portal).\n",
        "# <myResourceGroupName>: Resource group of the Azure AI Studio hub's linked storage account.\n",
        "# <user-id>: User object ID for role assignment (retrieve with \"az ad user show\" command).\n",
        "\n",
        "! az role assignment create --role \"Storage Blob Data Contributor\" --scope /subscriptions/8cebb108-a4d5-402b-a0c4-f7556126277f/resourceGroups/openairesourcegroup_priya --assignee-principal-type User --assignee-object-id \"8cebb108-a4d5-402b-a0c4-f7556126277f\""
      ],
      "outputs": [],
      "execution_count": null,
      "metadata": {
        "jupyter": {
          "source_hidden": false,
          "outputs_hidden": false
        },
        "nteract": {
          "transient": {
            "deleting": false
          }
        }
      }
    },
    {
      "cell_type": "code",
      "source": [
        "from azure.ai.evaluation import evaluate\n",
        "\n",
        "result = evaluate(\n",
        "    data=\"./eval_baseline_data.jsonl\",\n",
        "    evaluators={\n",
        "        \"bleu\": bleu,\n",
        "        \"gleu\": glue,\n",
        "        \"meteor\": meteor,\n",
        "    },\n",
        "    # Optionally provide your AI Studio project information to track your evaluation results in your Azure AI Studio project\n",
        "    azure_ai_project={\n",
        "        \"subscription_id\": AZURE_SUBSCRIPTION_ID,\n",
        "        \"resource_group_name\": \"openAIResourceGroup_priya\",\n",
        "        \"project_name\": \"priyakedia-1214\",\n",
        "    },\n",
        ")"
      ],
      "outputs": [
        {
          "output_type": "stream",
          "name": "stdout",
          "text": "Prompt flow service has started...\nPrompt flow service has started...\nYou can view the traces in local from http://127.0.0.1:23333/v1.0/ui/traces/?#run=azure_ai_evaluation_evaluators_bleu_bleu_asyncbleuscoreevaluator_1f6tw6hf_20241230_205033_749328\nYou can view the traces in local from http://127.0.0.1:23333/v1.0/ui/traces/?#run=azure_ai_evaluation_evaluators_gleu_gleu_asyncgleuscoreevaluator_rqpbchlg_20241230_205033_760451\nPrompt flow service has started...\nYou can view the traces in local from http://127.0.0.1:23333/v1.0/ui/traces/?#run=azure_ai_evaluation_evaluators_meteor_meteor_asyncmeteorscoreevaluator_cw89tpoq_20241230_205033_757892\n"
        },
        {
          "output_type": "error",
          "ename": "EvaluationException",
          "evalue": "(UserError) Failed to upload evaluation run to the cloud due to insufficient permission to access the storage. Please ensure that the necessary access rights are granted.\nVisit https://aka.ms/azsdk/python/evaluation/remotetracking/troubleshoot to troubleshoot this issue.",
          "traceback": [
            "\u001b[0;31m---------------------------------------------------------------------------\u001b[0m",
            "\u001b[0;31mHttpResponseError\u001b[0m                         Traceback (most recent call last)",
            "File \u001b[0;32m/anaconda/envs/azureml_py310_sdkv2/lib/python3.10/site-packages/azure/ai/evaluation/_evaluate/_eval_run.py:432\u001b[0m, in \u001b[0;36mEvalRun.log_artifact\u001b[0;34m(self, artifact_folder, artifact_name)\u001b[0m\n\u001b[1;32m    431\u001b[0m         \u001b[38;5;28;01mwith\u001b[39;00m \u001b[38;5;28mopen\u001b[39m(local, \u001b[38;5;124m\"\u001b[39m\u001b[38;5;124mrb\u001b[39m\u001b[38;5;124m\"\u001b[39m) \u001b[38;5;28;01mas\u001b[39;00m fp:\n\u001b[0;32m--> 432\u001b[0m             \u001b[43mblob_client\u001b[49m\u001b[38;5;241;43m.\u001b[39;49m\u001b[43mupload_blob\u001b[49m\u001b[43m(\u001b[49m\u001b[43mfp\u001b[49m\u001b[43m,\u001b[49m\u001b[43m \u001b[49m\u001b[43moverwrite\u001b[49m\u001b[38;5;241;43m=\u001b[39;49m\u001b[38;5;28;43;01mTrue\u001b[39;49;00m\u001b[43m)\u001b[49m\n\u001b[1;32m    433\u001b[0m \u001b[38;5;28;01mexcept\u001b[39;00m HttpResponseError \u001b[38;5;28;01mas\u001b[39;00m ex:\n",
            "File \u001b[0;32m/anaconda/envs/azureml_py310_sdkv2/lib/python3.10/site-packages/azure/core/tracing/decorator.py:94\u001b[0m, in \u001b[0;36mdistributed_trace.<locals>.decorator.<locals>.wrapper_use_tracer\u001b[0;34m(*args, **kwargs)\u001b[0m\n\u001b[1;32m     93\u001b[0m \u001b[38;5;28;01mif\u001b[39;00m span_impl_type \u001b[38;5;129;01mis\u001b[39;00m \u001b[38;5;28;01mNone\u001b[39;00m:\n\u001b[0;32m---> 94\u001b[0m     \u001b[38;5;28;01mreturn\u001b[39;00m \u001b[43mfunc\u001b[49m\u001b[43m(\u001b[49m\u001b[38;5;241;43m*\u001b[39;49m\u001b[43margs\u001b[49m\u001b[43m,\u001b[49m\u001b[43m \u001b[49m\u001b[38;5;241;43m*\u001b[39;49m\u001b[38;5;241;43m*\u001b[39;49m\u001b[43mkwargs\u001b[49m\u001b[43m)\u001b[49m\n\u001b[1;32m     96\u001b[0m \u001b[38;5;66;03m# Merge span is parameter is set, but only if no explicit parent are passed\u001b[39;00m\n",
            "File \u001b[0;32m/anaconda/envs/azureml_py310_sdkv2/lib/python3.10/site-packages/azure/storage/blob/_blob_client.py:765\u001b[0m, in \u001b[0;36mBlobClient.upload_blob\u001b[0;34m(self, data, blob_type, length, metadata, **kwargs)\u001b[0m\n\u001b[1;32m    764\u001b[0m \u001b[38;5;28;01mif\u001b[39;00m blob_type \u001b[38;5;241m==\u001b[39m BlobType\u001b[38;5;241m.\u001b[39mBlockBlob:\n\u001b[0;32m--> 765\u001b[0m     \u001b[38;5;28;01mreturn\u001b[39;00m \u001b[43mupload_block_blob\u001b[49m\u001b[43m(\u001b[49m\u001b[38;5;241;43m*\u001b[39;49m\u001b[38;5;241;43m*\u001b[39;49m\u001b[43moptions\u001b[49m\u001b[43m)\u001b[49m\n\u001b[1;32m    766\u001b[0m \u001b[38;5;28;01mif\u001b[39;00m blob_type \u001b[38;5;241m==\u001b[39m BlobType\u001b[38;5;241m.\u001b[39mPageBlob:\n",
            "File \u001b[0;32m/anaconda/envs/azureml_py310_sdkv2/lib/python3.10/site-packages/azure/storage/blob/_upload_helpers.py:195\u001b[0m, in \u001b[0;36mupload_block_blob\u001b[0;34m(client, data, stream, length, overwrite, headers, validate_content, max_concurrency, blob_settings, encryption_options, **kwargs)\u001b[0m\n\u001b[1;32m    194\u001b[0m \u001b[38;5;28;01mtry\u001b[39;00m:\n\u001b[0;32m--> 195\u001b[0m     \u001b[43mprocess_storage_error\u001b[49m\u001b[43m(\u001b[49m\u001b[43merror\u001b[49m\u001b[43m)\u001b[49m\n\u001b[1;32m    196\u001b[0m \u001b[38;5;28;01mexcept\u001b[39;00m ResourceModifiedError \u001b[38;5;28;01mas\u001b[39;00m mod_error:\n",
            "File \u001b[0;32m/anaconda/envs/azureml_py310_sdkv2/lib/python3.10/site-packages/azure/storage/blob/_shared/response_handlers.py:184\u001b[0m, in \u001b[0;36mprocess_storage_error\u001b[0;34m(storage_error)\u001b[0m\n\u001b[1;32m    182\u001b[0m \u001b[38;5;28;01mtry\u001b[39;00m:\n\u001b[1;32m    183\u001b[0m     \u001b[38;5;66;03m# `from None` prevents us from double printing the exception (suppresses generated layer error context)\u001b[39;00m\n\u001b[0;32m--> 184\u001b[0m     \u001b[43mexec\u001b[49m\u001b[43m(\u001b[49m\u001b[38;5;124;43m\"\u001b[39;49m\u001b[38;5;124;43mraise error from None\u001b[39;49m\u001b[38;5;124;43m\"\u001b[39;49m\u001b[43m)\u001b[49m   \u001b[38;5;66;03m# pylint: disable=exec-used # nosec\u001b[39;00m\n\u001b[1;32m    185\u001b[0m \u001b[38;5;28;01mexcept\u001b[39;00m \u001b[38;5;167;01mSyntaxError\u001b[39;00m \u001b[38;5;28;01mas\u001b[39;00m exc:\n",
            "File \u001b[0;32m<string>:1\u001b[0m\n",
            "\u001b[0;31mHttpResponseError\u001b[0m: Key based authentication is not permitted on this storage account.\nRequestId:84a54b66-401e-002d-77fc-5ad733000000\nTime:2024-12-30T20:50:44.8811796Z\nErrorCode:KeyBasedAuthenticationNotPermitted\nContent: <?xml version=\"1.0\" encoding=\"utf-8\"?><Error><Code>KeyBasedAuthenticationNotPermitted</Code><Message>Key based authentication is not permitted on this storage account.\nRequestId:84a54b66-401e-002d-77fc-5ad733000000\nTime:2024-12-30T20:50:44.8811796Z</Message></Error>",
            "\nThe above exception was the direct cause of the following exception:\n",
            "\u001b[0;31mEvaluationException\u001b[0m                       Traceback (most recent call last)",
            "Cell \u001b[0;32mIn[22], line 3\u001b[0m\n\u001b[1;32m      1\u001b[0m \u001b[38;5;28;01mfrom\u001b[39;00m \u001b[38;5;21;01mazure\u001b[39;00m\u001b[38;5;21;01m.\u001b[39;00m\u001b[38;5;21;01mai\u001b[39;00m\u001b[38;5;21;01m.\u001b[39;00m\u001b[38;5;21;01mevaluation\u001b[39;00m \u001b[38;5;28;01mimport\u001b[39;00m evaluate\n\u001b[0;32m----> 3\u001b[0m result \u001b[38;5;241m=\u001b[39m \u001b[43mevaluate\u001b[49m\u001b[43m(\u001b[49m\n\u001b[1;32m      4\u001b[0m \u001b[43m    \u001b[49m\u001b[43mdata\u001b[49m\u001b[38;5;241;43m=\u001b[39;49m\u001b[38;5;124;43m\"\u001b[39;49m\u001b[38;5;124;43m./eval_baseline_data.jsonl\u001b[39;49m\u001b[38;5;124;43m\"\u001b[39;49m\u001b[43m,\u001b[49m\n\u001b[1;32m      5\u001b[0m \u001b[43m    \u001b[49m\u001b[43mevaluators\u001b[49m\u001b[38;5;241;43m=\u001b[39;49m\u001b[43m{\u001b[49m\n\u001b[1;32m      6\u001b[0m \u001b[43m        \u001b[49m\u001b[38;5;124;43m\"\u001b[39;49m\u001b[38;5;124;43mbleu\u001b[39;49m\u001b[38;5;124;43m\"\u001b[39;49m\u001b[43m:\u001b[49m\u001b[43m \u001b[49m\u001b[43mbleu\u001b[49m\u001b[43m,\u001b[49m\n\u001b[1;32m      7\u001b[0m \u001b[43m        \u001b[49m\u001b[38;5;124;43m\"\u001b[39;49m\u001b[38;5;124;43mgleu\u001b[39;49m\u001b[38;5;124;43m\"\u001b[39;49m\u001b[43m:\u001b[49m\u001b[43m \u001b[49m\u001b[43mglue\u001b[49m\u001b[43m,\u001b[49m\n\u001b[1;32m      8\u001b[0m \u001b[43m        \u001b[49m\u001b[38;5;124;43m\"\u001b[39;49m\u001b[38;5;124;43mmeteor\u001b[39;49m\u001b[38;5;124;43m\"\u001b[39;49m\u001b[43m:\u001b[49m\u001b[43m \u001b[49m\u001b[43mmeteor\u001b[49m\u001b[43m,\u001b[49m\n\u001b[1;32m      9\u001b[0m \u001b[43m    \u001b[49m\u001b[43m}\u001b[49m\u001b[43m,\u001b[49m\n\u001b[1;32m     10\u001b[0m \u001b[43m    \u001b[49m\u001b[38;5;66;43;03m# Optionally provide your AI Studio project information to track your evaluation results in your Azure AI Studio project\u001b[39;49;00m\n\u001b[1;32m     11\u001b[0m \u001b[43m    \u001b[49m\u001b[43mazure_ai_project\u001b[49m\u001b[38;5;241;43m=\u001b[39;49m\u001b[43m{\u001b[49m\n\u001b[1;32m     12\u001b[0m \u001b[43m        \u001b[49m\u001b[38;5;124;43m\"\u001b[39;49m\u001b[38;5;124;43msubscription_id\u001b[39;49m\u001b[38;5;124;43m\"\u001b[39;49m\u001b[43m:\u001b[49m\u001b[43m \u001b[49m\u001b[43mAZURE_SUBSCRIPTION_ID\u001b[49m\u001b[43m,\u001b[49m\n\u001b[1;32m     13\u001b[0m \u001b[43m        \u001b[49m\u001b[38;5;124;43m\"\u001b[39;49m\u001b[38;5;124;43mresource_group_name\u001b[39;49m\u001b[38;5;124;43m\"\u001b[39;49m\u001b[43m:\u001b[49m\u001b[43m \u001b[49m\u001b[38;5;124;43m\"\u001b[39;49m\u001b[38;5;124;43mopenAIResourceGroup_priya\u001b[39;49m\u001b[38;5;124;43m\"\u001b[39;49m\u001b[43m,\u001b[49m\n\u001b[1;32m     14\u001b[0m \u001b[43m        \u001b[49m\u001b[38;5;124;43m\"\u001b[39;49m\u001b[38;5;124;43mproject_name\u001b[39;49m\u001b[38;5;124;43m\"\u001b[39;49m\u001b[43m:\u001b[49m\u001b[43m \u001b[49m\u001b[38;5;124;43m\"\u001b[39;49m\u001b[38;5;124;43mpriyakedia-1214\u001b[39;49m\u001b[38;5;124;43m\"\u001b[39;49m\u001b[43m,\u001b[49m\n\u001b[1;32m     15\u001b[0m \u001b[43m    \u001b[49m\u001b[43m}\u001b[49m\u001b[43m,\u001b[49m\n\u001b[1;32m     16\u001b[0m \u001b[43m)\u001b[49m\n",
            "File \u001b[0;32m/anaconda/envs/azureml_py310_sdkv2/lib/python3.10/site-packages/azure/ai/evaluation/_evaluate/_evaluate.py:651\u001b[0m, in \u001b[0;36mevaluate\u001b[0;34m(data, evaluators, evaluation_name, target, evaluator_config, azure_ai_project, output_path, **kwargs)\u001b[0m\n\u001b[1;32m    643\u001b[0m \u001b[38;5;28;01mif\u001b[39;00m \u001b[38;5;129;01mnot\u001b[39;00m \u001b[38;5;28misinstance\u001b[39m(e, EvaluationException):\n\u001b[1;32m    644\u001b[0m     \u001b[38;5;28;01mraise\u001b[39;00m EvaluationException(\n\u001b[1;32m    645\u001b[0m         message\u001b[38;5;241m=\u001b[39m\u001b[38;5;28mstr\u001b[39m(e),\n\u001b[1;32m    646\u001b[0m         target\u001b[38;5;241m=\u001b[39mErrorTarget\u001b[38;5;241m.\u001b[39mEVALUATE,\n\u001b[1;32m    647\u001b[0m         category\u001b[38;5;241m=\u001b[39mErrorCategory\u001b[38;5;241m.\u001b[39mFAILED_EXECUTION,\n\u001b[1;32m    648\u001b[0m         blame\u001b[38;5;241m=\u001b[39mErrorBlame\u001b[38;5;241m.\u001b[39mSYSTEM_ERROR,\n\u001b[1;32m    649\u001b[0m     ) \u001b[38;5;28;01mfrom\u001b[39;00m \u001b[38;5;21;01me\u001b[39;00m\n\u001b[0;32m--> 651\u001b[0m \u001b[38;5;28;01mraise\u001b[39;00m e\n",
            "File \u001b[0;32m/anaconda/envs/azureml_py310_sdkv2/lib/python3.10/site-packages/azure/ai/evaluation/_evaluate/_evaluate.py:610\u001b[0m, in \u001b[0;36mevaluate\u001b[0;34m(data, evaluators, evaluation_name, target, evaluator_config, azure_ai_project, output_path, **kwargs)\u001b[0m\n\u001b[1;32m    574\u001b[0m \u001b[38;5;250m\u001b[39m\u001b[38;5;124;03m\"\"\"Evaluates target or data with built-in or custom evaluators. If both target and data are provided,\u001b[39;00m\n\u001b[1;32m    575\u001b[0m \u001b[38;5;124;03m    data will be run through target function and then results will be evaluated.\u001b[39;00m\n\u001b[1;32m    576\u001b[0m \n\u001b[0;32m   (...)\u001b[0m\n\u001b[1;32m    607\u001b[0m \u001b[38;5;124;03m        :caption: Run an evaluation on local data with Coherence and Relevance evaluators.\u001b[39;00m\n\u001b[1;32m    608\u001b[0m \u001b[38;5;124;03m\"\"\"\u001b[39;00m\n\u001b[1;32m    609\u001b[0m \u001b[38;5;28;01mtry\u001b[39;00m:\n\u001b[0;32m--> 610\u001b[0m     \u001b[38;5;28;01mreturn\u001b[39;00m \u001b[43m_evaluate\u001b[49m\u001b[43m(\u001b[49m\n\u001b[1;32m    611\u001b[0m \u001b[43m        \u001b[49m\u001b[43mevaluation_name\u001b[49m\u001b[38;5;241;43m=\u001b[39;49m\u001b[43mevaluation_name\u001b[49m\u001b[43m,\u001b[49m\n\u001b[1;32m    612\u001b[0m \u001b[43m        \u001b[49m\u001b[43mtarget\u001b[49m\u001b[38;5;241;43m=\u001b[39;49m\u001b[43mtarget\u001b[49m\u001b[43m,\u001b[49m\n\u001b[1;32m    613\u001b[0m \u001b[43m        \u001b[49m\u001b[43mdata\u001b[49m\u001b[38;5;241;43m=\u001b[39;49m\u001b[43mdata\u001b[49m\u001b[43m,\u001b[49m\n\u001b[1;32m    614\u001b[0m \u001b[43m        \u001b[49m\u001b[43mevaluators\u001b[49m\u001b[38;5;241;43m=\u001b[39;49m\u001b[43mevaluators\u001b[49m\u001b[43m,\u001b[49m\n\u001b[1;32m    615\u001b[0m \u001b[43m        \u001b[49m\u001b[43mevaluator_config\u001b[49m\u001b[38;5;241;43m=\u001b[39;49m\u001b[43mevaluator_config\u001b[49m\u001b[43m,\u001b[49m\n\u001b[1;32m    616\u001b[0m \u001b[43m        \u001b[49m\u001b[43mazure_ai_project\u001b[49m\u001b[38;5;241;43m=\u001b[39;49m\u001b[43mazure_ai_project\u001b[49m\u001b[43m,\u001b[49m\n\u001b[1;32m    617\u001b[0m \u001b[43m        \u001b[49m\u001b[43moutput_path\u001b[49m\u001b[38;5;241;43m=\u001b[39;49m\u001b[43moutput_path\u001b[49m\u001b[43m,\u001b[49m\n\u001b[1;32m    618\u001b[0m \u001b[43m        \u001b[49m\u001b[38;5;241;43m*\u001b[39;49m\u001b[38;5;241;43m*\u001b[39;49m\u001b[43mkwargs\u001b[49m\u001b[43m,\u001b[49m\n\u001b[1;32m    619\u001b[0m \u001b[43m    \u001b[49m\u001b[43m)\u001b[49m\n\u001b[1;32m    620\u001b[0m \u001b[38;5;28;01mexcept\u001b[39;00m \u001b[38;5;167;01mException\u001b[39;00m \u001b[38;5;28;01mas\u001b[39;00m e:\n\u001b[1;32m    621\u001b[0m     \u001b[38;5;66;03m# Handle multiprocess bootstrap error\u001b[39;00m\n\u001b[1;32m    622\u001b[0m     bootstrap_error \u001b[38;5;241m=\u001b[39m (\n\u001b[1;32m    623\u001b[0m         \u001b[38;5;124m\"\u001b[39m\u001b[38;5;124mAn attempt has been made to start a new process before the\u001b[39m\u001b[38;5;130;01m\\n\u001b[39;00m\u001b[38;5;124m        \u001b[39m\u001b[38;5;124m\"\u001b[39m\n\u001b[1;32m    624\u001b[0m         \u001b[38;5;124m\"\u001b[39m\u001b[38;5;124mcurrent process has finished its bootstrapping phase.\u001b[39m\u001b[38;5;124m\"\u001b[39m\n\u001b[1;32m    625\u001b[0m     )\n",
            "File \u001b[0;32m/anaconda/envs/azureml_py310_sdkv2/lib/python3.10/site-packages/azure/ai/evaluation/_evaluate/_evaluate.py:815\u001b[0m, in \u001b[0;36m_evaluate\u001b[0;34m(evaluators, evaluation_name, target, data, evaluator_config, azure_ai_project, output_path, **kwargs)\u001b[0m\n\u001b[1;32m    813\u001b[0m studio_url \u001b[38;5;241m=\u001b[39m \u001b[38;5;28;01mNone\u001b[39;00m\n\u001b[1;32m    814\u001b[0m \u001b[38;5;28;01mif\u001b[39;00m trace_destination:\n\u001b[0;32m--> 815\u001b[0m     studio_url \u001b[38;5;241m=\u001b[39m \u001b[43m_log_metrics_and_instance_results\u001b[49m\u001b[43m(\u001b[49m\n\u001b[1;32m    816\u001b[0m \u001b[43m        \u001b[49m\u001b[43mmetrics\u001b[49m\u001b[43m,\u001b[49m\u001b[43m \u001b[49m\u001b[43mresult_df\u001b[49m\u001b[43m,\u001b[49m\u001b[43m \u001b[49m\u001b[43mtrace_destination\u001b[49m\u001b[43m,\u001b[49m\u001b[43m \u001b[49m\u001b[43mtarget_run\u001b[49m\u001b[43m,\u001b[49m\u001b[43m \u001b[49m\u001b[43mevaluation_name\u001b[49m\u001b[43m,\u001b[49m\u001b[43m \u001b[49m\u001b[38;5;241;43m*\u001b[39;49m\u001b[38;5;241;43m*\u001b[39;49m\u001b[43mkwargs\u001b[49m\n\u001b[1;32m    817\u001b[0m \u001b[43m    \u001b[49m\u001b[43m)\u001b[49m\n\u001b[1;32m    819\u001b[0m result_df_dict \u001b[38;5;241m=\u001b[39m result_df\u001b[38;5;241m.\u001b[39mto_dict(\u001b[38;5;124m\"\u001b[39m\u001b[38;5;124mrecords\u001b[39m\u001b[38;5;124m\"\u001b[39m)\n\u001b[1;32m    820\u001b[0m result: EvaluationResult \u001b[38;5;241m=\u001b[39m {\u001b[38;5;124m\"\u001b[39m\u001b[38;5;124mrows\u001b[39m\u001b[38;5;124m\"\u001b[39m: result_df_dict, \u001b[38;5;124m\"\u001b[39m\u001b[38;5;124mmetrics\u001b[39m\u001b[38;5;124m\"\u001b[39m: metrics, \u001b[38;5;124m\"\u001b[39m\u001b[38;5;124mstudio_url\u001b[39m\u001b[38;5;124m\"\u001b[39m: studio_url}  \u001b[38;5;66;03m# type: ignore\u001b[39;00m\n",
            "File \u001b[0;32m/anaconda/envs/azureml_py310_sdkv2/lib/python3.10/site-packages/azure/ai/evaluation/_evaluate/_utils.py:183\u001b[0m, in \u001b[0;36m_log_metrics_and_instance_results\u001b[0;34m(metrics, instance_results, trace_destination, run, evaluation_name, **kwargs)\u001b[0m\n\u001b[1;32m    180\u001b[0m \u001b[38;5;28;01mwith\u001b[39;00m \u001b[38;5;28mopen\u001b[39m(tmp_path, \u001b[38;5;124m\"\u001b[39m\u001b[38;5;124mw\u001b[39m\u001b[38;5;124m\"\u001b[39m, encoding\u001b[38;5;241m=\u001b[39mDefaultOpenEncoding\u001b[38;5;241m.\u001b[39mWRITE) \u001b[38;5;28;01mas\u001b[39;00m f:\n\u001b[1;32m    181\u001b[0m     f\u001b[38;5;241m.\u001b[39mwrite(instance_results\u001b[38;5;241m.\u001b[39mto_json(orient\u001b[38;5;241m=\u001b[39m\u001b[38;5;124m\"\u001b[39m\u001b[38;5;124mrecords\u001b[39m\u001b[38;5;124m\"\u001b[39m, lines\u001b[38;5;241m=\u001b[39m\u001b[38;5;28;01mTrue\u001b[39;00m))\n\u001b[0;32m--> 183\u001b[0m \u001b[43mev_run\u001b[49m\u001b[38;5;241;43m.\u001b[39;49m\u001b[43mlog_artifact\u001b[49m\u001b[43m(\u001b[49m\u001b[43mtmpdir\u001b[49m\u001b[43m,\u001b[49m\u001b[43m \u001b[49m\u001b[43martifact_name\u001b[49m\u001b[43m)\u001b[49m\n\u001b[1;32m    185\u001b[0m \u001b[38;5;66;03m# Using mlflow to create a dummy run since once created via PF show traces of dummy run in UI.\u001b[39;00m\n\u001b[1;32m    186\u001b[0m \u001b[38;5;66;03m# Those traces can be confusing.\u001b[39;00m\n\u001b[1;32m    187\u001b[0m \u001b[38;5;66;03m# adding these properties to avoid showing traces if a dummy run is created.\u001b[39;00m\n\u001b[1;32m    188\u001b[0m \u001b[38;5;66;03m# We are doing that only for the pure evaluation runs.\u001b[39;00m\n\u001b[1;32m    189\u001b[0m \u001b[38;5;28;01mif\u001b[39;00m run \u001b[38;5;129;01mis\u001b[39;00m \u001b[38;5;28;01mNone\u001b[39;00m:\n",
            "File \u001b[0;32m/anaconda/envs/azureml_py310_sdkv2/lib/python3.10/site-packages/azure/ai/evaluation/_evaluate/_eval_run.py:439\u001b[0m, in \u001b[0;36mEvalRun.log_artifact\u001b[0;34m(self, artifact_folder, artifact_name)\u001b[0m\n\u001b[1;32m    434\u001b[0m     \u001b[38;5;28;01mif\u001b[39;00m ex\u001b[38;5;241m.\u001b[39mstatus_code \u001b[38;5;241m==\u001b[39m \u001b[38;5;241m403\u001b[39m:\n\u001b[1;32m    435\u001b[0m         msg \u001b[38;5;241m=\u001b[39m (\n\u001b[1;32m    436\u001b[0m             \u001b[38;5;124m\"\u001b[39m\u001b[38;5;124mFailed to upload evaluation run to the cloud due to insufficient permission to access the storage.\u001b[39m\u001b[38;5;124m\"\u001b[39m\n\u001b[1;32m    437\u001b[0m             \u001b[38;5;124m\"\u001b[39m\u001b[38;5;124m Please ensure that the necessary access rights are granted.\u001b[39m\u001b[38;5;124m\"\u001b[39m\n\u001b[1;32m    438\u001b[0m         )\n\u001b[0;32m--> 439\u001b[0m         \u001b[38;5;28;01mraise\u001b[39;00m EvaluationException(\n\u001b[1;32m    440\u001b[0m             message\u001b[38;5;241m=\u001b[39mmsg,\n\u001b[1;32m    441\u001b[0m             target\u001b[38;5;241m=\u001b[39mErrorTarget\u001b[38;5;241m.\u001b[39mEVAL_RUN,\n\u001b[1;32m    442\u001b[0m             category\u001b[38;5;241m=\u001b[39mErrorCategory\u001b[38;5;241m.\u001b[39mFAILED_REMOTE_TRACKING,\n\u001b[1;32m    443\u001b[0m             blame\u001b[38;5;241m=\u001b[39mErrorBlame\u001b[38;5;241m.\u001b[39mUSER_ERROR,\n\u001b[1;32m    444\u001b[0m             tsg_link\u001b[38;5;241m=\u001b[39m\u001b[38;5;124m\"\u001b[39m\u001b[38;5;124mhttps://aka.ms/azsdk/python/evaluation/remotetracking/troubleshoot\u001b[39m\u001b[38;5;124m\"\u001b[39m,\n\u001b[1;32m    445\u001b[0m         ) \u001b[38;5;28;01mfrom\u001b[39;00m \u001b[38;5;21;01mex\u001b[39;00m\n\u001b[1;32m    447\u001b[0m     \u001b[38;5;28;01mraise\u001b[39;00m ex\n\u001b[1;32m    449\u001b[0m \u001b[38;5;66;03m# To show artifact in UI we will need to register it. If it is a promptflow run,\u001b[39;00m\n\u001b[1;32m    450\u001b[0m \u001b[38;5;66;03m# we are rewriting already registered artifact and need to skip this step.\u001b[39;00m\n",
            "\u001b[0;31mEvaluationException\u001b[0m: (UserError) Failed to upload evaluation run to the cloud due to insufficient permission to access the storage. Please ensure that the necessary access rights are granted.\nVisit https://aka.ms/azsdk/python/evaluation/remotetracking/troubleshoot to troubleshoot this issue."
          ]
        }
      ],
      "execution_count": 22,
      "metadata": {
        "jupyter": {
          "source_hidden": false,
          "outputs_hidden": false
        },
        "nteract": {
          "transient": {
            "deleting": false
          }
        },
        "gather": {
          "logged": 1735591846715
        }
      }
    },
    {
      "cell_type": "code",
      "source": [
        "result = bleu(response=sample[\"Actual\"], ground_truth=sample[\"Expected\"])\n",
        "\n",
        "print(result)"
      ],
      "outputs": [
        {
          "output_type": "stream",
          "name": "stderr",
          "text": "[nltk_data] Downloading package wordnet to\n[nltk_data]     /home/azureuser/nltk_data...\n[nltk_data] Downloading package perluniprops to\n[nltk_data]     /home/azureuser/nltk_data...\n[nltk_data]   Unzipping misc/perluniprops.zip.\n[nltk_data] Downloading package punkt to /home/azureuser/nltk_data...\n[nltk_data]   Unzipping tokenizers/punkt.zip.\n"
        },
        {
          "output_type": "stream",
          "name": "stdout",
          "text": "{'bleu_score': 0.8557309221341731}\n"
        }
      ],
      "execution_count": 10,
      "metadata": {
        "jupyter": {
          "source_hidden": false,
          "outputs_hidden": false
        },
        "nteract": {
          "transient": {
            "deleting": false
          }
        },
        "gather": {
          "logged": 1735590719073
        }
      }
    },
    {
      "cell_type": "code",
      "source": [
        "from azure.ai.evaluation import GleuScoreEvaluator\n",
        "\n",
        "gleu = GleuScoreEvaluator()"
      ],
      "outputs": [],
      "execution_count": 11,
      "metadata": {
        "jupyter": {
          "source_hidden": false,
          "outputs_hidden": false
        },
        "nteract": {
          "transient": {
            "deleting": false
          }
        },
        "gather": {
          "logged": 1735590790408
        }
      }
    },
    {
      "cell_type": "code",
      "source": [],
      "outputs": [],
      "execution_count": null,
      "metadata": {
        "jupyter": {
          "source_hidden": false,
          "outputs_hidden": false
        },
        "nteract": {
          "transient": {
            "deleting": false
          }
        }
      }
    }
  ],
  "metadata": {
    "kernelspec": {
      "name": "python310-sdkv2",
      "language": "python",
      "display_name": "Python 3.10 - SDK v2"
    },
    "language_info": {
      "name": "python",
      "version": "3.10.14",
      "mimetype": "text/x-python",
      "codemirror_mode": {
        "name": "ipython",
        "version": 3
      },
      "pygments_lexer": "ipython3",
      "nbconvert_exporter": "python",
      "file_extension": ".py"
    },
    "microsoft": {
      "ms_spell_check": {
        "ms_spell_check_language": "en"
      },
      "host": {
        "AzureML": {
          "notebookHasBeenCompleted": true
        }
      }
    },
    "kernel_info": {
      "name": "python310-sdkv2"
    },
    "nteract": {
      "version": "nteract-front-end@1.0.0"
    }
  },
  "nbformat": 4,
  "nbformat_minor": 2
}